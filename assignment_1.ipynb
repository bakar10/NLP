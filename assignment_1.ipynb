{
  "cells": [
    {
      "cell_type": "code",
      "source": [
        "pip install nltk"
      ],
      "metadata": {
        "id": "HrVlyVqLl5Rg",
        "outputId": "c771c912-7890-4463-cb19-10e3b11b29ad",
        "colab": {
          "base_uri": "https://localhost:8080/"
        }
      },
      "execution_count": null,
      "outputs": [
        {
          "output_type": "stream",
          "name": "stdout",
          "text": [
            "Requirement already satisfied: nltk in /usr/local/lib/python3.10/dist-packages (3.8.1)\n",
            "Requirement already satisfied: click in /usr/local/lib/python3.10/dist-packages (from nltk) (8.1.7)\n",
            "Requirement already satisfied: joblib in /usr/local/lib/python3.10/dist-packages (from nltk) (1.3.2)\n",
            "Requirement already satisfied: regex>=2021.8.3 in /usr/local/lib/python3.10/dist-packages (from nltk) (2023.12.25)\n",
            "Requirement already satisfied: tqdm in /usr/local/lib/python3.10/dist-packages (from nltk) (4.66.2)\n"
          ]
        }
      ]
    },
    {
      "cell_type": "code",
      "source": [
        "import nltk\n",
        "nltk.download('stopwords')\n",
        "nltk.download('wordnet')\n",
        "nltk.download('punkt')\n",
        "\n",
        "\n"
      ],
      "metadata": {
        "id": "ybAphGKQmSLj",
        "outputId": "2aaf4cb4-e848-4f97-887d-300826406c3e",
        "colab": {
          "base_uri": "https://localhost:8080/"
        }
      },
      "execution_count": null,
      "outputs": [
        {
          "output_type": "stream",
          "name": "stderr",
          "text": [
            "[nltk_data] Downloading package stopwords to /root/nltk_data...\n",
            "[nltk_data]   Package stopwords is already up-to-date!\n",
            "[nltk_data] Downloading package wordnet to /root/nltk_data...\n",
            "[nltk_data]   Package wordnet is already up-to-date!\n",
            "[nltk_data] Downloading package punkt to /root/nltk_data...\n",
            "[nltk_data]   Package punkt is already up-to-date!\n"
          ]
        },
        {
          "output_type": "execute_result",
          "data": {
            "text/plain": [
              "True"
            ]
          },
          "metadata": {},
          "execution_count": 7
        }
      ]
    },
    {
      "cell_type": "code",
      "source": [
        "import requests\n",
        "from bs4 import BeautifulSoup\n",
        "import re\n",
        "import nltk\n",
        "from nltk.stem import WordNetLemmatizer\n",
        "from nltk.corpus import stopwords\n",
        "from nltk.tokenize import word_tokenize\n",
        "\n",
        "def clean_text(text):\n",
        "    # Remove unwanted symbols or characters\n",
        "    cleaned_text = re.sub(r'[^\\w\\s]', '', text)\n",
        "\n",
        "    # Convert text to lowercase\n",
        "    cleaned_text = cleaned_text.lower()\n",
        "    return cleaned_text\n",
        "\n",
        "\n",
        "def tokenize_text(text):\n",
        "    # Tokenize the text by splitting it into words\n",
        "    tokens = word_tokenize(text)\n",
        "    return tokens\n",
        "\n",
        "def lemmatize_text(tokens):\n",
        "    # Initialize lemmatizer\n",
        "    lemmatizer = WordNetLemmatizer()\n",
        "    # Lemmatize each token\n",
        "    lemmatized_tokens = [lemmatizer.lemmatize(token) for token in tokens]\n",
        "    return lemmatized_tokens\n",
        "\n",
        "def remove_stopwords(tokens):\n",
        "    # Get English stop words from NLTK\n",
        "    stop_words = set(stopwords.words('english'))\n",
        "    # Remove stop words from the tokens\n",
        "    filtered_tokens = [word for word in tokens if word.lower() not in stop_words]\n",
        "    return filtered_tokens\n",
        "\n",
        "# Send a GET request to the URL\n",
        "url = 'https://en.wikipedia.org/wiki/Machine_learning'\n",
        "response = requests.get(url)\n",
        "\n",
        "# Check if the request was successful\n",
        "if response.status_code == 200:\n",
        "    # Parse the HTML content\n",
        "    soup = BeautifulSoup(response.text, 'html.parser')\n",
        "\n",
        "    # Find and extract text from all paragraphs\n",
        "    paragraphs = soup.find_all('p')\n",
        "\n",
        "    # Initialize set to store unique words\n",
        "    unique_words = set()\n",
        "\n",
        "    # Extract unique words from each paragraph\n",
        "    for paragraph in paragraphs:\n",
        "        cleaned_paragraph = clean_text(paragraph.get_text())\n",
        "        tokens = tokenize_text(cleaned_paragraph)\n",
        "        tokens_without_stopwords = remove_stopwords(tokens)\n",
        "        unique_words.update(tokens_without_stopwords)\n",
        "\n",
        "    # Print unique words\n",
        "    print(\"Unique Words:\")\n",
        "    print(unique_words)\n",
        "else:\n",
        "    print(\"Failed to retrieve the webpage.\")\n"
      ],
      "metadata": {
        "id": "TtTGRkNWiDfh",
        "outputId": "75aa48a6-64a2-48ef-fa9e-2d2431172511",
        "colab": {
          "base_uri": "https://localhost:8080/"
        }
      },
      "execution_count": null,
      "outputs": [
        {
          "output_type": "stream",
          "name": "stdout",
          "text": [
            "Unique Words:\n",
            "{'hypothesized', 'software99', 'professionals', 'paths', 'statistically', 'uks', 'array', 'firm', 'producing', 'disproportionately', 'letters', 'describing', 'higherdimensional', 'interacting', 'intrusion', 'cpus', 'data56', 'leverage', 'data67', 'smallest', 'quite', 'transferring', 'algorithmic', 'principal', 'regression', 'concept', 'bursts', 'publics', 'access', 'completely', 'randomly', 'examine', 'reinforcements', 'search', 'promotional', 'ai144', 'outside', 'games', 'infeasible', 'low', '23', 'problem', 'profits', '34', 'do20', 'step', 'routine', 'decentralizing', '80', 'limiting', 'advantages', 'manipulate', 'unconscious', 'approachclarification', 'previous', 'warren', 'conferences', 'bayesian', 'filters', 'trees', 'wellordered', 'especially', 'walter', 'learning40', 'enables', 'quoted', 'jobs', 'emotion', 'preserve', 'onionspotatoes', 'subspace', 'improves', 'vectors', 'toward', 'existing', 'factorization62', 'signal', 'modeling', 'adhere', 'vaguely', 'edge', 'donald', 'engineering', 'loosely', 'members', 'committee', 'updates', 'advances', 'longstanding', 'maps', 'formed', 'cumulative', 'discovering', 'scaling', 'interested', 'rightarrow', 'encountered', 'prepared', 'intelligence910', 'henceforth', 'stakes', 'evaluation', 'designers', 'arises', 'abstract', 'increased', 'minimizes', 'calculated', 'privacy', '13', 'excel88', 'architecture', 'falls', 'life', 'within', 'iteratively', 'discovery', 'analytical', 'explicitly', 'map', 'carried', 'identified', 'tasks', 'cra', 'behaves', 'areas', 'closely', 'playing', 'detrimental', 'michael', 'effective', 'performing', 'functions', 'focusing', 'human', 'fit', 'along', 'small', 'outliers', 'help', 'responsibility126', 'customers', 'computes', 'synonym', 'weakly', 'defined', 'ranking', 'questions', 'prediction77', 'identifies', 'nonpattern', 'generative', 'interaction', 'r', 'benchmark', 'continue', 'opposed', 'caa58', 'behavioral', 'intelligence262728', 'following', 'lz77', 'topic', 'developing', 'feature', 'admissions', 'synapse154155', 'dealing', 'equality', 'groundwork', 'datagenerating', 'class', 'changing', 'named', 'sets53', 'predictions84', 'considers', 'incoming', 'biased', 'directly', 'pixels', 'society118', 'response', 'trick', 'psychologist', 'layers', 'estimate', 'quantify', 'pkdd', 'black', 'focus', 'varied', 'however', 'component', 'set', 'basic', 'zeros', 'e', 'backpropagation24', 'documentation', 'attempt', 'p', 'propublica', 'breaches', 'active', 'one', 'visual', 'upon', 'respect', 'nearly', 'lowdimensional', 'programming', 'doctors', 'cases', 'mirror', 'fields', 'curve', 'decision', 'predesignated', 'could', 'study', 'audiovideo', 'conventional', 'users116', 'value', 'external', 'species', 'symptoms', 'useful', 'streamlined', 'higher', 'alphazero', 'argued', 'optimal', 'input', 'compactness', 'pangenome52', 'immune', 'spam', 'secrets', 'white', 'suspicions', 'marketing', 'feasible', 'grand', 'gordon', 'incorporate', 'finite', 'solvable', 'popular', 'journal', 'plotkin', 'recognizing', 'density', 'conjunctions', 'layer', 'sample', 'inputoutput', '2020', 'categories', 'intimate', 'g', 'coders', 'coupled', 'fits', 'inductive', 'aggregate', 'racial', 'nilssons', 'select', 'concerned', 'capable', 'sound', 'implementation', 'times', 'invented', '2019', 'experiments', 'modernday', 'far', 'minimizing', 'hearing', 'genotypes', 'removes', 'covid19102', 'algorithms', 'sparse', 'approaches', 'scientific', 'policies', 'facts', 'random', 'gorillas121', 'methods', 'generalized', 'scientists', 'created', 'appropriately', 'ordinary', 'multivariate', 'st', 'machinelearning', 'threefold', 'characterizing', 'machines148', 'reliance', 'idea', 'dominate', 'inductively', 'doublingtime', 'fashion', 'softwarebased', 'reduction8', 'away', 'provided', 'flourish', 'resistance', 'structural', 'workload', 'ai127', 'resources', 'satisfactory', 'brains', 'denominators', 'improve', 'openai', 'numerical', 'designed', 'formula', 'probabilistic', 'emotions', 'narrow', 'compressor', 'explicit', 'occurrences', 'ambiguous', 'justification', 'maxine', 'production', 'patch', 'employee', 'winning', 'automated', 'algorithmically', 'encoding', 'groups', 'led', 'dataset', 'defining', 'maintained', 'unlike', 'contextdependent', 'pca', 'might', 'nerve', 'springer', 'reduction', 'sequence', 'perform', 'learns', 'implemented', 'lie', 'receives', 'defendants', 'compute', 'universally', 'imieliński', 'actual', 'normal', 'placements', 'belief', 'surrogate', 'source', 'utilize', 'roots', 'acceleration159160', 'rocs', 'storage', 'identifying', 'n', 'chat', 'regularization', 'checkers', 'work', 'additional', 'history', 'realized', 'faithful', 'commercial', 'utilization', 'attempts', 'among', 'text', 'probability', 'photos', 'assign', 'notion', 'addition', 'discipline', 'ipt', 'penalizing', 'units', 'backpropagated', 'supervisory', 'concern', 'take', 'control', 'memory', 'consequence', 'classifying', 'assume', 'edges', 'decades', 'task19', 'test', 'lords', 'forms', 'files', '1959', 'send', 'projects', 'require', 'microclusters', 'desired', 'splits', 'new', 'analyses', 'dempsters', 'label', 'recovery', 'spaces', 'distinguished', 'distillation', 'hypothesis', 'caa', 'propelling', 'ideas', 'object', 'bioinformatics', 'inform', 'language124', 'common', 'african', 'compress', 'relationships', 'technique', 'tries', 'gerrymandered', 'applicants', 'constitutional', 'laid', 'replaced', 'mining', 'distributed', 'microsofts', 'variation', 'reinvention', 'vulnerabilities', 'synapses', 'cause', 'squares', 'emails', 'seem', 'reevaluate', 'be38', 'subfield', 'close', 'widely', 'techniques54', 'equivalence', 'art', 'multiagent', 'accurately', 'policing', 'accordingly97', 'training61', 'connection', 'hispanic', 'lack', 'ties', 'computing', 'employing', 'holdout', 'graphic', 'requires', 'classifiers', 'hypothetical', 'full', 'society', 'via', 'model39', 'leaves', 'held', 'target', 'eg', 'us', 'disciplines', 'geoliticas', 'medicate', 'every', 'said', 'integrated', 'learning101', '2012', 'form', 'shows', 'viewers', 'issues', 'predictive', 'care', 'autonomous', 'contexts', 'entirely', 'host', 'dependent', 'att', 'indel', 'falsely', 'original', 'hebbs', 'traversing', 'diagnosis', 'matrix', 'minimize', 'predefined', 'influences', 'web', 'hidden', '1980s', 'transform', 'remaining', 'anomaly', 'burden', 'rates', 'clusters', 'days', 'suggested', 'cannot69', 'implementations', 'generate', 'haplotypes', 'stock', 'correlate', 'allows', 'proving', 'selfteaching', 'discrepancy', 'results108109110', 'unless', 'sensor', 'forest', 'certain', 'prolog', 'connections', 'patients', 'badly', 'unobserved', 'xml', 'highfidelity', 'grouping', 'express', 'towards', 'cybertron', 'two', 'detection', 'special', 'context', '24', 'nodes', 'mathematically', 'first', 'solutions', 'goof', '2018', 'bias', 'entire', 'started', 'financial', 'range', 'implicit', 'interactions', 'understood', 'decision128', 'million96', 'property', 'taking', 'classes', 'research', 'ability', 'themselves117', 'framework', 'ultimate', 'problems454647', 'development', 'evolves', '1960s', 'interest', 'video', 'distribution', 'accuracy', 'arrived', 'women', 'trendline', 'coming', 'intelligent', 'analyze', 'street', 'available', 'paintings', 'programmed', 'yield', 'build', 'ais', 'extended', 'processes', 'area', 'overpolicing', 'best', 'abandoned', 'examplestasks', 'iteration', 'memristor', 'merely', 'limitations', 'compresses', 'hostile', 'success', 'biases', 'threshold', 'hinton', 'apply', 'tool', 'product', 'biasvariance', 'applicants141142', 'commonalities', 'many', 'wherein', 'fitted', 'symbolic', 'dimension', 'adversarial', 'propositions', 'advantage', 'improving', 'make', 'reasons', 'thereby', 'piecewise', '2010s', 'branches', 'feedback', 'internal', 'pioneer', 'tomasz', 'kinds', 'pairs', 'resulting', 'fundamentally', 'divided', 'polynomial', 'supermarkets78', 'wellvisible', 'total', 'svm', 'change', 'selflearning', 'remove', 'tensorflow', 'time', 'pattern', 'outputs48', 'discovered', 'outcomes', 'labsresearch', 'opencv', 'population', 'previously', 'structure', 'logic', 'good', 'literature', 'another', 'more162163', 'beliefs', 'tree', 'characteristics', 'paradigms', 'lowincome', 'independence', 'unrecognized', 'commonly', 'drawn', 'constitute', 'making', 'potatoes', 'centralized', 'practical', 'builds', 'database', 'maml', 'pictures', 'auc139', 'centroid', 'market', 'techniques', 'strings', 'onions', 'rumelhart', 'already', 'repetitively', 'learned', 'store', 'generalizable', 'covariances', 'endeavor', 'generating', 'material', 'clustering636465', '1990s9091', 'properties', 'uncertain', 'cloud', 'regression50', 'xai', 'users', 'wide', 'plagued', 'legitimate', 'alternative', 'fine', 'aids', 'bootstrap', 'optimization', 'recorded', 'increase', 'reorganized', 'functional', 'mid1980s', 'category87', 'latter', 'based', 'indicators', 'wrote', 'outlier', 'tag', 'shifted', 'necessary', 'proceeds', 'wall', 'think', 'intellectual', 'uses', 'uncertainty', 'centroids', 'risk', 'server', 'various', 'across', 'processes13', 'validated', 'generality', 'objectives', 'identification', 'approximately', 'associated', 'relies', 'metric', 'theories', 'bad', 'well', 'parallel', 'term', 'expert', 'assess', 'feasibility', 'u', 'researched', 'involves', 'connectionist', 'similarly', 'sequences', 'gaussian', 'vectors66', 'transparency', 'ann', 'machines', 'induction', 'performance', 'derive', 'classified', 'highdimensional', 'objects', 'difference', 'incorrect', 'finally', 'importantlyit', 'cognitive', 'measures', 'decreasing', 'respectively', 'estimation', 'central', 'tested', 'filtering', 'tuned85', 'without', 'represented', 'larger', 'use', 'hart', 'faculty', 'face', 'association', 'software', 'covariance', 'examination', 'speaker', 'cancerous', 'made', 'error', 'fraud', 'pedestrian', 'rewards', 'noneuropean', 'interestingness76', 'svms', 'categorization', 'interesting', 'cells14', 'large', 'problems111', 'tpr', 'social', 'roc', 'missing', 'blame', 'manner', 'tools', 'extension', 'transmit', 'today', 'subject', 'aispecific', 'pruning', 'way', 'paper', 'exceptions71', 'chosen', 'relevant', 'emulate', 'language', 'explainable', 'hierarchy', 'criteria', 'ratings', 'conversely', 'lesson', 'poorer44', 'obtaining', 'searches', 'abuse', 'considerable', 'setting808182', 'access135136137', 'mentioned', 'kernel', 'constraint', 'match', 'determine', 'mitigated149', 'likelihood', 'estimated', 'mimics', 'separate', 'call', 'technical', 'criterion', 'generated', 'manifolds', '3d', 'grew', 'singular', 'horses130', 'intended', 'classifier', 'contrasts', 'car', 'less', 'swami', 'c', 'inherited', 'powerful', 'commission', 'biases143', 'separation', 'job', 'expected', 'three', 'specifically', 'reducing', 'breiman', 'placed', 'samuel', 'button', 'enhancing', 'containing', 'beneficial', 'compression', 'theory', 'employed', 'acquisition', 'unsupervised', 'continuous', 'classification16', 'communities', 'spatial', 'enhancements', 'fact', 'is129', 'seek', 'reduce', 'classification', 'accordance', 'numerators', 'concerns', 'next', 'house', 'cluster', 'defect', 'different', 'extracted', 'world144', 'responsible', 'broad', 'termed', 'corpus', 'transmission', 'single', 'devices', 'anomalous', 'discrete', 'selection', 'operational', 'belongs', 'resolving3510', 'query', 'diseases', 'fpr', 'amount', 'gboard', 'significantly', 'inputs', 'initially', 'e19', 'unzip', 'medication', 'generalization', 'handle', 'caused', 'elimination', 'compressionbased', 'labeled', 'interpretable', 'finding', 'exhibit', 'knowledgebased', 'data', 'medicine45', 'published', 'everything', 'acceptable', 'sales', 'recidivism', 'opaque', 'trader', 'difficulty', 'viewing', 'number', 'hamburger', 'yet', 'picked', 'fitting', 'pixel133', 'georges', '26', 'relying', 'servers', 'vision', 'variables55', 'decomposition', 'overall', 'probabilities', 'statisticians', 'expressed', 'linear', 'usually', 'increases', 'foundation', 'pac', 'operating', 'engine', 'ppm29', 'hand', 'correspond', 'predicts', 'depending', 'utilized', 'approximate', 'identity', 'folder', 'usage', 'manipulation', 'extraction', 'examples', 'instance', 'x', 'analytics', 'learnings', 'sensory', 'systems', 'purpose', 'symbols', 'minority', 'needing', 'electrocardiograms', 'rule', 'findings', 'dominant', 'supermarket', 'experience643', 'dempstershafer', 'explained', 'nature', 'easily', 'hyperparameter', 'back', 'uniform', 'largest', 'diagnosis24', 'healthcare', 'comparison', '197317', 'leaks', 'question', 'contains', 'desire', 'subdomain', 'resolved', 'gpus', 'provides', 'biases119120', 'american', 'thinking', 'report', 'possibly', 'neural', 'tracking', 'assignment', 'effectively', 'mlas', 'learn', 'principles', 'prize', 'corpora', 'exhaustive', 'mobile', 'main', '60', 'sent', 'domains125', 'tensor', 'preprocessing', 'school', 'need', 'characters', 'include', 'increasingly', 'leading', 'diagnoses', 'instructions1', 'evasion', '1980', 'dollars', 'gene', 'alan', 'size', 'microsystems', 'ratios', 'keeping', 'uber', 'patterns', 'performed', 'efficient', 'result', 'experience', 'recognized', 'raytheon', 'limited', 'nas', 'early', 'application', 'general', 'teams', 'heavily', 'recognition', 'swarm', 'signals', 'watson', 'mitigate', 'computer', 'representative', 'entails', 'noise', 'hebb', 'weight', 'types', 'prestructured', 'high', 'ai151', 'placeholder', 'years', 'robot', 'awarded', 'machine', 'imprecise', 'researchers', 'adopted', 'insight', 'verification', 'terms', 'substantial', 'units150', '4', 'obtained', 'string', 'least', 'predictions21', 'collision113', 'several', 'toolbox', 'travel', 'starting', 'cinematch', 'matlabs', 'produce', 'representing', 'predictions79', 'executes', 'data13', 'settling', 'boundary', '2009', 'show', 'khosla', 'feifei', 'growth', 'parties', 'play', 'andmost', 'outputs', 'strength', 'transformative', 'decreases', 'platt', 'speeding', 'quantification', '1981', 'impacts', 'unknown', 'introduced', 'dynamic', 'motivated', 'buy', 'later', 'months152153', 'particular', 'view', 'estimation51', 'false', 'hold', 'higherlevel', 'rely', 'k', 'typically', 'cultural', 'compressed', 'labels', 'precluded', 'example', 'longer', 'using', 'last', 'binary', 'statistics', 'quantization', 'derived', 'mediaservices', 'dilemma', 'neuromorphic', 'frameworks', 'mathematical', 'proper', 'preserving', 'data112', 'disordered', 'accurate', 'thought', 'scoring', 'neither', 'cognition', 'health', 'burger', 'decisions', 'knowledge', 'modern', 'key', 'big', 'board', 'norm', 'adaptive', 'experiment', 'confusion', 'thus', 'go', 'true', 'explanation', 'lead', 'attempted', 'retrieval24', 'exist', 'dismantling', 'observed', 'inference', 'applied', 'including', 'caveats', 'unbalanced', 'neatly', 'borrowed', 'contributed', 'came', 'forecasts', 'evolutionary', 'combine', 'ought', 'explain', 'nonprobabilistic', 'deep', 'humans', 'connectionism', 'although', 'optimize', 'joint', 'trained', 'adversarially', 'coined', 'diagnose', 'either', 'operatorteacher', 'negative', 'point', 'finds', 'presence', 'rate', 'sum', 'canadian', 'lowerlevel', 'networks', 'yielded', 'rulebased', 'name', 'major', 'manual', 'file', 'past', 'hardware', 'methodological', 'loss', 'tnr', '488', 'handling', 'found', 'improvement', 'microsoft', 'hiring', 'crossvalidation', 'communicate', 'generalizations', 'distinct', 'receiving', 'reliable', 'conventionally', 'according', 'investigators', 'theft', 'aivc', 'symbol', 'due', 'words', 'brown', 'win', 'aixi', 'surpass', 'natural', 'reinventions', 'included', 'book', 'picking', 'changed', 'better', 'computers', 'find', 'studied', 'complexity', 'crosses', 'multilayer', 'important', 'translation', 'learning134', 'feelings', 'products', 'thermal', 'efficiency', 'b', 'multitude', 'considered', 'works', 'google', 'aid', 'provide', 'correctly', 'independent', 'increasing', 'humanmade', 'side', 'nonwhite', 'real', 'candidates', 'classify', 'recognition86', 'staff', 'situations', 'follows', 'crime', '45', 'wellequipped', 'deliver', 'partitions', 'sets', 'chooses', 'attention', 'sometimes', 'unexpected', 'ridge', 'journalism', 'improved', 'google93', 'notably', 'diagnostic', '161', 'makes', 'consists', 'clustering', 'rakesh', 'offers', 'phd', 'applicable', 'systematic', 'computationally', 'makes112', 'necessarily', 'systems123', 'toc', 'formulated', 'all122', 'li', '1970s', 'features', 'biological', 'relate', 'prisoners', 'recommendation', 'vp9', 'team', 'inferred', 'prejudices140', 'logical', 'provider', 'multiple', 'majority', 'largescale', 'proposed', 'refer', 'draws', 'analysis', 'nonlinear', 'basket', 'preassigned', 'hypotheses', 'adapted', 'underlying', 'define', 'replacement', 'datasets', 'continued', '2014', 'visually', 'predictions', 'representations', 'describes', 'paradigm', 'vulnerability', 'punched', 'impact', 'theoretical', 'refining', 'challenge', 'environment', 'cure', 'task', 'solve', 'alexnet', 'items', 'parameters', 'reward', 'competition', 'wants', 'advice', 'encompasses', 'related', 'performance23', 'required', 'federated', 'quantity', 'specific', 'furthering', 'setting', 'personal', 'anomalies', 'examples35', 'needs', 'theres', 'information', 'outperformed', '1982', 'deviations', 'core', 'like', 'teaching', 'networks41', 'cats', 'nvidia', 'sonar', 'branch', 'measure', 'logistic', 'employ', '1', 'k1', 'multidimensional', 'critical', 'captured', 'wherefrom', 'fnr', 'locations', 'storing', 'exists', 'pitts', 'kind', 'transformations', 'sharing', 'reviewer', 'rewarding', '2017', 'overlap', 'asian', 'twice', 'space33', 'user', 'field37', 'approximately68', 'light', 'ecml', 'protein', 'artificial', 'perceptrons', 'operations', 'movie', 'customer', 'categorized', 'instances', 'item', 'posts', 'viewpoint', 'displaystyle', 'contain', 'leo', 'specifity', 'suitable', 'agents', 'ignorance', 'numerous', 'sparsely', 'would', 'levels', 'denied', 'strongly', 'period1112', 'unavailability', 'adjusts', 'historical', 'adjustable', 'convenient', 'suites', 'aims', 'gorillas', 'earliest', 'collaboration', 'unlabeled', 'review', 'reasoning145', 'receiver', 'also', 'mathrm', 'configurations', 'domain', 'generates', 'demonstrated', 'conjunction', 'represent', 'suggesting', 'shown', 'aggregated', 'variable', '1950s', 'ensemble', 'group', 'corresponding', 'fusion', 'decentralizes', 'bing', 'variables', 'effort', 'typical', 'maximize', 'smartphones', 'lowrank', 'allowing', 'condenses', '2d', 'judgments', 'variety', '1990s', 'efficiently', 'detect', 'claimed', 'conditional', 'returns', 'learning', 'meat', '32', 'strong', 'nphard', 'events', 'inherently', 'transactions', 'connectivity', 'extensive', 'process', 'model', 'recognize', 'reportedly', 'activities', 'since', 'buys', 'replacing', 'train', 'issue', 'objectivity', 'displaced', 'kmeans', '755', 'fail', 'shortly', 'bank', 'aipowered', 'agrawal', 'situations60', 'abnormal', 'teacher', 'prediction', 'program', 'computed', '2010', 'rebellion', 'learning7475', 'factorization', 'dag', 'universities', 'priori', 'rules', 'goal', 'learners', 'turings', 'disentangles', 'inputs49', 'obtain', 'background', 'wrong', 'ksvd', 'decisions15', 'hopfield', 'output', 'restricted', 'actions', 'fully', 'considering', 'comes', 'opponent', 'family', 'algorithm', 'ethics', 'goto', 'supportvector', 'compression31', 'strategy', 'known', 'developed', 'third', 'chaos', 'marked', 'specificity', 'probably', 'sounding', 'neurons', 'experienced', 'metalearning57', 'used', 'regularities', 'replaces', '2006', 'proprietary', 'humanlike', 'conclusions', 'technologies', 'prehistory', 'relational', 'animal', 'partition', 'sexist', 'anns', 'action', 'likely', 'approach', 'physics', 'classic', 'supervisedlearning', 'rift', 'unzipping', 'engineers', '25', 'biomedical', 'reinforcement', 'tackling', 'directed', 'equipped', 'sensitivity', 'defendants121', 'tom', 'arithmetic', 'exact', 'responding', 'data121', 'overly', '2015', 'vulnerable', 'learning78', 'subset', 'consideration', 'images', 'picture', 'statistics37', 'implausible', 'individuals', 'models', 'may', 'applications', 'mostly', 'together', 'reasoning', 'demonstrates', 'assumed', 'travelers103', 'programs', 'needed', 'misconceptions', 'processing', 'meaning', 'belonging', 'quest', 'preferences', 'transaction', 'aiits', 'misclassifies131132', 'disappoint', 'databases', 'owners', 'chance', 'physical', 'ols107', 'proenvironmental', 'uninformed', 'reveal', 'initial', 'moles', 'electrically', 'space', 'ilp', 'digits', 'kdd', 'focuses', 'incomegenerating', 'employs', 'biases146147', 'computing161', 'looking', 'ml', 'objective', 'ℵ', 'errors', 'selfdriving', 'computational', 'predicted', 'jordan', 'observations', 'function', 'autoencoders', 'raise', 'investigative', 'phone104105106', 'frequently', 'undesired', 'crossbar', 'resident', 'unnecessary', 'predict', 'organization', 'arun', 'pick', 'audit', 'network', 'gaming', 'goalseeking', 'includes', 'reshaping', '1949', 'correct', 'lossless', 'factors', 'detecting', 'profound', 'reminds', 'present', 'horses', 'algorithms92', 'collect', 'nonevaluated', 'journals', 'differing', 'inactivity', 'similar', 'collectively', 'introduces', 'favor25', 'remainder', 'formal', 'poses', 'emphasize', 'workaround', 'deeprooted', 'computation', 'duplicating', 'company', 'compared', 'diagnostics42', 'tests', 'smaller', 'diversity', 'metalearning', 'patterns36', 'long', 'flagged', 'combining', 'still', 'chatbot', 'combination', '1988', 'field', 'accmpeg30', 'aim', 'representation', 'situation', 'microcontrollers156157158', 'react', 'emphasis', 'killed', 'run', 'happening', 'andor', 'shapiro', 'programmingilp', 'wearable', 'primarily', 'promises', 'possibility', 'unseen', 'medical', 'dissimilar', 'invested114115', 'future', 'science', 'difficult', 'ethical', 'plan', 'pmfbased', 'speech', 'rather', 'achieving', 'assumption', 'evaluates', 'pragmatic', 'supervised', 'aics', 'vector', 'exist73', 'whether', 'collected', 'artists100', 'standard', 'indicate', 'points', 'logician', 'method', 'assumptions', 'phones', 'box', 'crossover', 'arthur', 'samples', 'game', 'ga', 'exploratory', 'w', 'hutter', 'semisupervised', 'multilinear', 'system', 'quickly', 'neuron', 'stochastic', 'mutation', 'crisis98', 'rudimentary', 'pointofsale', 'type', 'experimental', 'classifications', 'generally', 'recently', 'lost', 'accuracy138', 'construct', 'agriculture', 'widespread', 'line', 'markov', 'statistical', 'numbers', 'heuristic', 'level', 'guarantees', 'whitebox', 'theory25', 'evaluated', 'consider', 'resulted', 'challenges', 'service', 'absence', 'skewed', 'patterns72', 'realworld', 'piece', 'seen', 'implicitly', 'acyclic', 'eda', 'influence', 'nonlinearity', 'pricing', 'brain', 'bounds', 'beginning', 'names118', '708710', 'shape', 'cofounder', 'representation24', 'learner', 'mcculloch', 'noisy', 'positive', 'email', 'theorists', 'successful', 'revealed', 'given', 'states', 'racist', 'symbolicknowledgebased', '10', 'tay', 'mitchell', 'right', 'complex', 'suffer', 'mapping', 'united', 'foundations', 'digitizing', 'connected', 'particularly', 'something', 'environments', 'specified', 'ibm', 'strategies', 'reported', 'pos', 'reproduce', 'referred', 'rare', 'people', 'possible', 'refers', 'fuzzy', 'secondary', 'basis', 'done', 'oblivious', 'problems', 'designation', 'components', 'able', 'desirable', 'hope', 'entities', 'described', 'machinery', 'significant', 'training', 'image', 'called', 'order', 'proposes', 'inferences', 'intelligence', 'structures', 'synapse', 'mental', 'instead', 'dimensionality', 'terminal18', 'generalize', 'around', 'traditionally', '40', 'zip', 'genetic', 'kfoldcrossvalidation', 'tend', 'contrast', 'modifying', 'moved', 'potential', 'inspired', 'becoming', 'graph', 'combined', 'lcs', 'decisionmaking', 'minimization', '2016', 'twitter', 'ai', 'dictionary', '224', 'biology', 'individual', 'ehud', '2021', 'toy', 'come', 'vinod', 'business', 'represents', 'coding', 'even', 'novelties', 'relationship', 'often', 'sun', 'measured', 'technology', 'proposal', 'emotion59', 'much', 'data70', 'examples83', 'built', 'update', 'backdoors', 'values', 'discover', 'identify', 'genome', 'simplifies', 'diagrams', 'posterior', 'vehicles', 'failed', 'similarity', 'nothing', 'denoising', '300000fold', 'driven', 'furthermore', 'theoretically', 'graphical', 'duda', 'goals', 'compression32', 'exception', 'undetectably', 'netflix', 'characteristic', 'tape', 'mdp', 'conclude', 'female', 'trading', 'overfitting', 'participation', 'behavior', 'simulationbased', 'fairness', 'patches', 'embedded', 'billions', 'languages', 'clean', 'offensive', 'graduates', 'lzw', 'results', 'academic', 'subsets', 'understand', 'reconstruction', 'philosophical', 'sufficiently', 'taskspecific', 'collection', 'current', 'iterative', 'analogous', 'datasoftware', 'running', 'watch', 'manifold', 'compact', 'parameter', 'means', 'statistics23', 'evidence', 'part', 'perturbations', 'definition', 'cheaper', 'undesirable'}\n"
          ]
        }
      ]
    }
  ],
  "metadata": {
    "colab": {
      "provenance": []
    },
    "kernelspec": {
      "display_name": "Python 3",
      "name": "python3"
    }
  },
  "nbformat": 4,
  "nbformat_minor": 0
}